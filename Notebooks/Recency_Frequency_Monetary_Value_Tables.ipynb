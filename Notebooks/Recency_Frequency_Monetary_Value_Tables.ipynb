{
 "cells": [
  {
   "cell_type": "markdown",
   "id": "b9f5b8c1-e128-4ecc-bf95-45157f05c516",
   "metadata": {},
   "source": [
    "# Recency, Frequency, and Monetary Value Tables\n",
    "See 'Notebooks/Data_Cleaning.ipynb' for data cleaning. Raw data imported from square.com was cleaned and some relevant features impacting the sales, such as weather and social media, were added.\n",
    "\n",
    "- [Visualizations](#Visualizations)"
   ]
  },
  {
   "cell_type": "code",
   "execution_count": null,
   "id": "d383c745-e82b-470c-b523-252871a95e05",
   "metadata": {},
   "outputs": [],
   "source": [
    "import pandas as pd\n",
    "import datetime as dt\n",
    "import numpy as np\n",
    "import matplotlib.pyplot as plt\n",
    "import matplotlib.dates as mdates\n",
    "import seaborn as sns"
   ]
  },
  {
   "cell_type": "code",
   "execution_count": null,
   "id": "bb620008-e9dc-4a89-aa28-ccc3574cbcb7",
   "metadata": {},
   "outputs": [],
   "source": [
    "#importing cleaned data\n",
    "sales_data = pd.read_csv('insert_path')\n",
    "sales_data = sales_data.drop('Unnamed: 0', axis='columns')\n",
    "sales_data['date'] = pd.to_datetime(sales_data['date'])"
   ]
  },
  {
   "cell_type": "markdown",
   "id": "557e7f5b-c78c-4fdc-84df-3f43b79e673c",
   "metadata": {},
   "source": [
    "- Determine what customers are trackable – i.e. those that use a credit card to pay for their purchase. In the example here, the customer id for cash sales were grouped into the ID number of -1."
   ]
  },
  {
   "cell_type": "code",
   "execution_count": null,
   "id": "0f58e128-f760-4dbd-834d-5ed572c1ce1c",
   "metadata": {},
   "outputs": [],
   "source": [
    "sales_data = sales_data[sales_data['customer_id_no'] != -1]"
   ]
  },
  {
   "cell_type": "code",
   "execution_count": null,
   "id": "5097c869-accf-45ca-b7df-fe75aeeb5b26",
   "metadata": {},
   "outputs": [],
   "source": [
    "# Create the RFM table\n",
    "NOW = dt.datetime(2023,5,1)\n",
    "\n",
    "rfm_table = sales_data.groupby('customer_id_no').agg({'date': lambda x: (NOW - x.max()).days,\n",
    "                                                      'visit_freq': lambda x: x.max(),\n",
    "                                                      'gross_sales': lambda x: x.sum()})\n",
    "rfm_table['date'] = rfm_table['date'].astype(int)\n",
    "rfm_table.rename(columns={'date': 'recency', \n",
    "                         'visit_freq': 'frequency', \n",
    "                         'gross_sales': 'monetary_value'}, inplace=True)"
   ]
  },
  {
   "cell_type": "code",
   "execution_count": null,
   "id": "522e5bc5-d1fc-4120-af3e-ab90b510775d",
   "metadata": {},
   "outputs": [],
   "source": [
    "# Creation of RFM groups\n",
    "quantiles = rfm_table.quantile(q=[0.25,0.5,0.75])\n",
    "quantiles = quantiles.to_dict()"
   ]
  },
  {
   "cell_type": "code",
   "execution_count": null,
   "id": "d6e0a883-e354-4d7e-939e-f221eff814a2",
   "metadata": {},
   "outputs": [],
   "source": [
    "segmented_rfm = rfm_table\n",
    "\n",
    "\n",
    "def RScore(x,p,d):\n",
    " if x <= d[p][0.25]:\n",
    "     return 1\n",
    " elif x <= d[p][0.50]:\n",
    "     return 2\n",
    " elif x <= d[p][0.75]:\n",
    "     return 3\n",
    " else:\n",
    "     return 4\n",
    "\n",
    "def FMScore(x,p,d):\n",
    " if x <= d[p][0.25]:\n",
    "     return 4\n",
    " elif x <= d[p][0.50]:\n",
    "     return 3\n",
    " elif x <= d[p][0.75]:\n",
    "     return 2\n",
    " else:\n",
    "     return 1\n",
    "\n",
    "# Adding quartile scores and computing the overall RFM Score\n",
    "segmented_rfm['r_quartile'] = segmented_rfm['recency'].apply(RScore, \n",
    "                                            args=('recency',quantiles,))\n",
    "segmented_rfm['f_quartile'] = segmented_rfm['frequency'].apply(FMScore,\n",
    "                                            args=('frequency',quantiles,))\n",
    "segmented_rfm['m_quartile'] = segmented_rfm['monetary_value'].apply(FMScore,\n",
    "                                            args=('monetary_value',quantiles,))\n",
    "\n",
    "segmented_rfm['RFMScore'] = (segmented_rfm.r_quartile.map(str) + \n",
    "                            segmented_rfm.f_quartile.map(str) +  \n",
    "                            segmented_rfm.m_quartile.map(str))\n",
    "\n",
    "segmented_rfm = segmented_rfm.reset_index()"
   ]
  },
  {
   "cell_type": "code",
   "execution_count": null,
   "id": "fb7ecf5a-0172-4717-ba06-4b3f11f21d7d",
   "metadata": {},
   "outputs": [],
   "source": [
    "average_recency = round(segmented_rfm['recency'].mean(),2)\n",
    "average_frequency = round(segmented_rfm['frequency'].mean(),2)\n",
    "average_expenditure = round(segmented_rfm['monetary_value'].mean(),2)\n",
    "\n",
    "print(\"Average customer recency: {} days since last visit\".format(average_recency), \"\\nAverage customer frequency: {} unique visits\".format(average_frequency), \"\\nAverage customer spending: ${}\".format(average_expenditure))"
   ]
  },
  {
   "cell_type": "markdown",
   "id": "1214b864-dc03-4196-a430-c413594e14be",
   "metadata": {},
   "source": [
    "- It may be helpful to look at frequent customers who have not been visiting recently. Here it was filtered by at least 30 visits and spending more than $500 but not visiting in the last two months."
   ]
  },
  {
   "cell_type": "code",
   "execution_count": null,
   "id": "dd281f28-7a76-47d1-bd29-ad4c8ad39ec1",
   "metadata": {},
   "outputs": [],
   "source": [
    "no_return = segmented_rfm.sort_values('monetary_value', ascending=False)\n",
    "no_return = no_return[(no_return['recency'] > 60)&(no_return['monetary_value'] >= 500)&(no_return['frequency'] >= 30)]"
   ]
  },
  {
   "cell_type": "markdown",
   "id": "c147d20b-1df1-4cab-9ab3-f6f29fab79f2",
   "metadata": {},
   "source": [
    "# Visualizations"
   ]
  },
  {
   "cell_type": "code",
   "execution_count": null,
   "id": "8fc5439f-6063-49b6-9503-6dd1a185727f",
   "metadata": {},
   "outputs": [],
   "source": [
    "custom_palette = sns.color_palette(\"Blues\")\n",
    "sns.set_style(\"darkgrid\", {\"grid.color\": \".6\", \"grid.linestyle\": \":\"})"
   ]
  },
  {
   "cell_type": "code",
   "execution_count": null,
   "id": "f3fd442d-7933-4162-b6d4-2f7a08d57637",
   "metadata": {},
   "outputs": [],
   "source": [
    "# Pairplot to visualize relationships between variables\n",
    "sns.pairplot(segmented_rfm, vars=['recency','frequency','monetary_value'], palette = 'colorblind', hue='m_quartile')\n",
    "plt.show()"
   ]
  },
  {
   "cell_type": "code",
   "execution_count": null,
   "id": "c0793280-c5e5-4e33-8ab0-92e76f8bb9b5",
   "metadata": {},
   "outputs": [],
   "source": [
    "# Distribution plots for each RFM variable\n",
    "plt.figure(figsize=(12, 4))\n",
    "\n",
    "plt.subplot(131)\n",
    "sns.histplot(segmented_rfm['recency'], bins=10, kde=True)\n",
    "plt.title('Recency Distribution', fontsize=20)\n",
    "plt.xlabel('Recency', fontsize=16)\n",
    "plt.ylabel('Count', fontsize=16)\n",
    "\n",
    "plt.subplot(132)\n",
    "sns.histplot(segmented_rfm['frequency'], bins=5, kde=True)\n",
    "plt.title('Frequency Distribution', fontsize=20)\n",
    "plt.xticks()\n",
    "plt.xlabel('Frequency', fontsize=16)\n",
    "plt.ylabel('Count', fontsize=16)\n",
    "\n",
    "plt.subplot(133)\n",
    "sns.histplot(segmented_rfm['monetary_value'], bins=10, kde=True)\n",
    "plt.title('Monetary Distribution', fontsize=20)\n",
    "plt.xlabel('Monetary Value', fontsize=16)\n",
    "plt.ylabel('Count', fontsize=16)\n",
    "\n",
    "plt.tight_layout()\n",
    "plt.show()"
   ]
  },
  {
   "cell_type": "code",
   "execution_count": null,
   "id": "10b94c33-105a-4f70-82c9-904780e9d5d9",
   "metadata": {},
   "outputs": [],
   "source": [
    "import plotly.express as px\n",
    "\n",
    "def plotly_paired(key, value):\n",
    "    rfm_list = ['r', 'f', 'm']\n",
    "    axis_list = [key[0], value[0]]\n",
    "    \n",
    "    hue_id = list(set(rfm_list) - set(axis_list))\n",
    "    scored = str(hue_id[0]) + '_quartile'\n",
    "    \n",
    "    x_label = label_dict[key]\n",
    "    print(x_label)\n",
    "    fig = px.scatter(segmented_rfm, x=key, y=value, color=scored, labels={'x': key.capitalize(), 'y': value.capitalize()}, hover_name = 'customer_id_no')\n",
    "    \n",
    "    fig.update_layout(\n",
    "        title=f\"{key.capitalize()} v {value.capitalize()}\",\n",
    "        xaxis_title=key.capitalize(),\n",
    "        yaxis_title=value.capitalize(),\n",
    "        font=dict(size=16)\n",
    "    )\n",
    "    \n",
    "    fig.show()\n"
   ]
  },
  {
   "cell_type": "code",
   "execution_count": null,
   "id": "13aa1cff-feee-4ea0-a401-49bfac3be6ae",
   "metadata": {},
   "outputs": [],
   "source": [
    "plotly_paired('recency', 'frequency')"
   ]
  },
  {
   "cell_type": "code",
   "execution_count": null,
   "id": "12d0c977-20e5-4451-92a6-c8e528403a26",
   "metadata": {},
   "outputs": [],
   "source": [
    "plotly_paired('monetary_value', 'recency')"
   ]
  },
  {
   "cell_type": "code",
   "execution_count": null,
   "id": "166cbf7a-1828-4ae3-8799-220de56f2208",
   "metadata": {},
   "outputs": [],
   "source": [
    "plotly_paired('frequency', 'monetary_value')"
   ]
  },
  {
   "cell_type": "code",
   "execution_count": null,
   "id": "1eadeadf-0135-4dd8-aeeb-73fefabd73cd",
   "metadata": {},
   "outputs": [],
   "source": []
  }
 ],
 "metadata": {
  "kernelspec": {
   "display_name": "Python 3 (ipykernel)",
   "language": "python",
   "name": "python3"
  },
  "language_info": {
   "codemirror_mode": {
    "name": "ipython",
    "version": 3
   },
   "file_extension": ".py",
   "mimetype": "text/x-python",
   "name": "python",
   "nbconvert_exporter": "python",
   "pygments_lexer": "ipython3",
   "version": "3.10.9"
  }
 },
 "nbformat": 4,
 "nbformat_minor": 5
}
