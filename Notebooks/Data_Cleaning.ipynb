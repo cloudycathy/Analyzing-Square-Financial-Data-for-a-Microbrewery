{
 "cells": [
  {
   "cell_type": "markdown",
   "id": "710f9aee-3a33-4821-b053-44f02e9cd60a",
   "metadata": {},
   "source": [
    "# Data Cleaning\n",
    "Raw data is imported from square.com and cleaned to use for future analyses. Some relevant features impacting the sales, such as weather and social media, are added.\n",
    "\n",
    "- [Addition of columns](#Addition-of-columns)\n",
    "- [Addition of weather data](#Addition-of-Weather-Data)\n",
    "- [Addition of Untappd data](#Addition-of-Untappd-Data)\n",
    "- [Addition of Instagram data](#Addition-of-Instagram-Data)\n",
    "- [Export to csv](#Export-to-csv)"
   ]
  },
  {
   "cell_type": "code",
   "execution_count": null,
   "id": "463fde33-a98f-46df-b979-3ddcb046ccbc",
   "metadata": {},
   "outputs": [],
   "source": [
    "import pandas as pd\n",
    "import datetime as dt\n",
    "import numpy as np"
   ]
  },
  {
   "cell_type": "code",
   "execution_count": null,
   "id": "f4e19466-a3be-45ef-83b5-084103e7d8ad",
   "metadata": {},
   "outputs": [],
   "source": [
    "#Square data is imported from the years in question\n",
    "sales_2019 = pd.read_csv('insert_path')\n",
    "sales_2020 = pd.read_csv('insert_path')\n",
    "sales_2021 = pd.read_csv('insert_path')\n",
    "sales_2022 = pd.read_csv('insert_path')\n",
    "sales_2023 = pd.read_csv('insert_path')\n",
    "\n",
    "df_list = [sales_2019, sales_2020, sales_2021, sales_2022, sales_2023]\n",
    "sales_data = pd.concat(df_list, join='inner', axis='rows')"
   ]
  },
  {
   "cell_type": "markdown",
   "id": "f13db860-eaa3-4d08-a06f-4c985263910e",
   "metadata": {},
   "source": [
    "If the Item values are not consistent, it may be prudent to go through the values and map them to a consistent naming system. In the case of the brewery sales data, I mapped them to groups of Draft, Can, Keg, Flight, Merchandise, Food, or Other for **'product_type'** or to names of specific beers for **'beer_style'** (i.e. IPA 12oz., IPA Can, IPA - Keg and IPA 16oz. all map to IPA). "
   ]
  },
  {
   "cell_type": "code",
   "execution_count": null,
   "id": "2832933d-88a3-405c-9888-ba1c4fc38956",
   "metadata": {},
   "outputs": [],
   "source": [
    "import ast\n",
    "def read_text_file(file_path):\n",
    "    with open(file_path, \"r\") as file:\n",
    "        content = file.read()\n",
    "    return content\n",
    "file_path_style = \"insert_path.txt\"\n",
    "file_content_style = read_text_file(file_path_style)\n",
    "style_dict = ast.literal_eval(file_content_style)\n",
    "\n",
    "file_path_product = \"insert_path.txt\"\n",
    "file_content_product = read_text_file(file_path_product)\n",
    "product_dict = ast.literal_eval(file_content_product)\n",
    "\n",
    "sales_data['beer_style'] = sales_data['Item'].map(style_dict)\n",
    "sales_data['product_type'] = sales_data['Item'].map(product_dict)"
   ]
  },
  {
   "cell_type": "code",
   "execution_count": null,
   "id": "f84e867d-97b1-45d0-a50a-e1fda5360a71",
   "metadata": {},
   "outputs": [],
   "source": [
    "monetary_columns = ['Gross Sales', 'Discounts', 'Net Sales', 'Tax']\n",
    "for col in monetary_columns:\n",
    "    sales_data[col] = sales_data[col].str.replace('[$,]', '', regex=True)\n",
    "    sales_data[col] = sales_data[col].astype('float')\n",
    "    sales_data[col] = np.round(sales_data[col], decimals = 2)"
   ]
  },
  {
   "cell_type": "code",
   "execution_count": null,
   "id": "d20e345e-8261-40ea-a752-479a00b68a55",
   "metadata": {},
   "outputs": [],
   "source": [
    "#changing applicable columns to datetime\n",
    "sales_data['Date'] = pd.to_datetime(sales_data['Date'])\n",
    "sales_data['Time'] = pd.to_datetime(sales_data['Time'])\n",
    "\n",
    "#adding new columns based off datetime\n",
    "sales_data['year'] = sales_data['Date'].dt.year\n",
    "sales_data['month'] = sales_data['Date'].dt.month\n",
    "sales_data['month_name'] = sales_data['Date'].dt.month_name()\n",
    "sales_data['day'] = sales_data['Date'].dt.day\n",
    "sales_data['weekday'] = sales_data['Date'].dt.day_name()\n",
    "sales_data['hour'] = sales_data['Time'].dt.hour"
   ]
  },
  {
   "cell_type": "code",
   "execution_count": null,
   "id": "9e179e8b-20f7-4be0-8987-82fd20f34d38",
   "metadata": {},
   "outputs": [],
   "source": [
    "sales_data['Customer Name'] = sales_data['Customer Name'].str.replace(',', '', regex=True)\n",
    "sales_data['Customer Name Init'] = sales_data['Customer Name'].str.replace('[^A-Z]', '', regex=True) #changing customer names to initials for privacy\n",
    "sales_data['customer_id_no'] = pd.factorize(sales_data['Customer Name'])[0]      \n",
    "\n",
    "sales_data = sales_data.drop(['Customer Name'], axis='columns')"
   ]
  },
  {
   "cell_type": "markdown",
   "id": "219bd1b7-eab3-4d87-86c5-9fcff7f75cc9",
   "metadata": {},
   "source": [
    "A unit price column is needed as square only provides the gross sales per item and the quanity."
   ]
  },
  {
   "cell_type": "code",
   "execution_count": null,
   "id": "c654380e-c0c1-4f2a-bdb9-87aef05355e9",
   "metadata": {},
   "outputs": [],
   "source": [
    "sales_data['unit_price'] = sales_data['Gross Sales'] / sales_data['Count'] # adding a price per unit of product column"
   ]
  },
  {
   "cell_type": "code",
   "execution_count": null,
   "id": "82e4452d-3408-46bb-ac5d-00615e9ece36",
   "metadata": {},
   "outputs": [],
   "source": [
    "sales_data = sales_data.drop(['Payment ID', 'Time', 'Customer ID', 'Customer Reference ID', \n",
    "              'Price Point Name', 'Discounts', 'Net Sales', 'Tax', \n",
    "              'Category', 'Commission', 'Employee',\n",
    "              'Unit', 'Dining Option', 'Details', 'Qty', 'SKU', \n",
    "              'Modifiers Applied','Location', \n",
    "              'Itemization Type', 'Fulfillment Note', 'Notes', \n",
    "              'Device Name', 'Event Type', 'Time Zone'], axis='columns')\n",
    "\n",
    "#names simplified\n",
    "sales_data = sales_data.rename(columns={\"Date\":\"date\",\n",
    "                        \"Item\":\"item\",\n",
    "                        \"Gross Sales\":\"gross_sales\",\n",
    "                        \"Transaction ID\":\"transaction_id\",\n",
    "                        \"Customer Name Init\":\"customer_init\", \n",
    "                        \"Count\":\"count\"})\n",
    "\n",
    "sales_data = sales_data.sort_values(by=\"date\", ascending=True, ignore_index=True)"
   ]
  },
  {
   "cell_type": "markdown",
   "id": "7eaafab5-5369-4cbb-bd8b-cc2b1193aaa2",
   "metadata": {},
   "source": [
    "Columns were reordered and sorted chronologically for easier viewing."
   ]
  },
  {
   "cell_type": "code",
   "execution_count": null,
   "id": "c14ca33e-7d01-46d6-a5ae-769bdc6b9e31",
   "metadata": {},
   "outputs": [],
   "source": [
    "sales_data = sales_data[['date', 'weekday', 'month_name', 'month', 'day', 'year', 'hour', 'item', 'beer_style', 'product_type', 'unit_price', 'count', 'gross_sales', 'transaction_id',\n",
    "       'customer_init', 'customer_id_no']].sort_values(['date','hour'], ascending=True)"
   ]
  },
  {
   "cell_type": "code",
   "execution_count": null,
   "id": "289238e3-2c97-48bb-b0f4-51d63b5d842e",
   "metadata": {},
   "outputs": [],
   "source": [
    "sales_data.head(20)"
   ]
  },
  {
   "cell_type": "markdown",
   "id": "d944c37b-bee5-422f-9d16-dd0ba5e1bf82",
   "metadata": {},
   "source": [
    "## Addition of columns"
   ]
  },
  {
   "cell_type": "markdown",
   "id": "6dae851d-ba6d-4c1c-aa10-3c057d5ec7be",
   "metadata": {},
   "source": [
    "Square data has lines for each individual item type purchased. The transaction id numbers are long and complex. For the purposes of tracking more easily, factorize can be used to have simpler ID numbers for transactions."
   ]
  },
  {
   "cell_type": "code",
   "execution_count": null,
   "id": "2313894a-48e6-4fba-a02e-b041582297e5",
   "metadata": {},
   "outputs": [],
   "source": [
    "sales_data['transaction_no'] = pd.factorize(sales_data['transaction_id'])[0]"
   ]
  },
  {
   "cell_type": "markdown",
   "id": "c391cf64-10f2-466c-ac42-57b9d9b47a81",
   "metadata": {},
   "source": [
    "A customer can be tracked throughout time on their customer ID number. It may be useful to add the frequency of the visitor as a new column so percentage of returning customers on a given day can be determined."
   ]
  },
  {
   "cell_type": "code",
   "execution_count": null,
   "id": "d2505d7f-1fe9-4e73-ae94-4c3a3f6f2f1a",
   "metadata": {},
   "outputs": [],
   "source": [
    "sales_data = sales_data.sort_values(['customer_id_no', 'date'])\n",
    "sales_data['visit_freq'] = sales_data.groupby('customer_id_no')['transaction_no'].transform('nunique')"
   ]
  },
  {
   "cell_type": "markdown",
   "id": "3f18462c-54bf-4cd8-bb44-dbced4b961ce",
   "metadata": {},
   "source": [
    "Number of customers on a given day"
   ]
  },
  {
   "cell_type": "code",
   "execution_count": null,
   "id": "52081eb7-9da3-447a-b4e9-878d49a125b2",
   "metadata": {},
   "outputs": [],
   "source": [
    "sales_data = sales_data.sort_values(['date', 'customer_id_no'])\n",
    "sales_data['daily_no_customers'] = sales_data.groupby('date')['transaction_no'].transform('nunique')"
   ]
  },
  {
   "cell_type": "markdown",
   "id": "43017c9e-72cc-46e6-b4dd-ddd8cc9fb2c2",
   "metadata": {},
   "source": [
    "Number of styles available every day can be impactful in the overall sales. For the purposes of my study, I assumed that every available style was sold in a given day. If this data is available in another data source it is recommended to merge that data on date."
   ]
  },
  {
   "cell_type": "code",
   "execution_count": null,
   "id": "6f26a0f5-54f1-4769-8c71-16cd82620900",
   "metadata": {},
   "outputs": [],
   "source": [
    "sales_data = sales_data.sort_values(['date', 'beer_style'])\n",
    "sales_data['no_styles_sold'] = sales_data.groupby('date')['beer_style'].transform('nunique')"
   ]
  },
  {
   "cell_type": "markdown",
   "id": "97f8984c-f4aa-47b1-a2ea-7551137ac189",
   "metadata": {},
   "source": [
    "Any customer initial that is blank is a cash sales."
   ]
  },
  {
   "cell_type": "code",
   "execution_count": null,
   "id": "bfac361d-4dff-4a01-b4b3-19e69957a5b2",
   "metadata": {},
   "outputs": [],
   "source": [
    "sales_data['customer_init'].fillna('Cash',inplace=True)"
   ]
  },
  {
   "cell_type": "markdown",
   "id": "53f305b4-de44-4167-bf71-a5afcca10e31",
   "metadata": {},
   "source": [
    "## Addition of Weather Data"
   ]
  },
  {
   "cell_type": "markdown",
   "id": "2ab02c34-4544-4cc7-a511-a7324f38648b",
   "metadata": {},
   "source": [
    "A csv file can be retrieved from National Centers for Environmental Information for closest station to the business in question. Be sure to match the date range to that of the sales data."
   ]
  },
  {
   "cell_type": "code",
   "execution_count": null,
   "id": "4a6befae-4818-45b5-9742-1b2fb2896810",
   "metadata": {},
   "outputs": [],
   "source": [
    "weather_data = pd.read_csv('data/weather/weather_data.csv')\n",
    "weather_data['DATE'] = pd.to_datetime(weather_data['DATE'])\n",
    "weather = weather_data[['DATE', 'PRCP','SNOW','TMAX','TMIN','PSUN']]\n",
    "weather = weather.drop(columns=['PSUN'], axis=1)\n",
    "weather = weather.rename(columns={'DATE':'date',\n",
    "                                  'PRCP':'precipitation',\n",
    "                                  'SNOW':'snowfall',\n",
    "                                  'TMAX':'max_temp',\n",
    "                                  'TMIN':'min_temp'})\n",
    "\n",
    "weather.info()"
   ]
  },
  {
   "cell_type": "code",
   "execution_count": null,
   "id": "ac338c0b-364e-41d3-87c7-1d6e996be2d5",
   "metadata": {},
   "outputs": [],
   "source": [
    "# add weather to overall dataframe\n",
    "sales_data = pd.merge(sales_data, weather, on='date', how='left')"
   ]
  },
  {
   "cell_type": "markdown",
   "id": "19051939-0d8c-4d02-b779-a50f078f86b4",
   "metadata": {},
   "source": [
    "## Addition of Untappd Data"
   ]
  },
  {
   "cell_type": "markdown",
   "id": "e100caf7-2402-490a-901c-b3fa966d4dc1",
   "metadata": {},
   "source": [
    "[Untappd](https://untappd.com/) is a social media site used for checking in and rating different beers. This data can provide some insight into how well a beer is received by the clientele. Given the typical user of Untappd is an avid beer drinker, this data is somewhat biased. Data can be scraped or downloaded as a csv through a paid account."
   ]
  },
  {
   "cell_type": "code",
   "execution_count": null,
   "id": "7564d2ec-6752-4b80-a9a2-ce657c554c1f",
   "metadata": {},
   "outputs": [],
   "source": [
    "style_data = pd.read_csv('data/beer_style/beer_style_data.csv')\n",
    "style_data = style_data[['beer_style', 'primary_beer_type','beer_abv',\n",
    "                         'beer_ibu','global_rating','rating_count','date_added']]\n",
    "style_data.head()"
   ]
  },
  {
   "cell_type": "code",
   "execution_count": null,
   "id": "97b1de7c-82cb-4bd6-8251-c872a23b125a",
   "metadata": {},
   "outputs": [],
   "source": [
    "sales_data = pd.merge(sales_data, style_data, on='beer_style', how='left')\n",
    "sales_data.head()"
   ]
  },
  {
   "cell_type": "code",
   "execution_count": null,
   "id": "9bd771d3-9904-42c0-97b6-98d243cf3e2c",
   "metadata": {},
   "outputs": [],
   "source": [
    "#fill null values in the event a particular beer has not been added to Untappd\n",
    "sales_data['rating_count'].fillna(0,inplace=True)\n",
    "sales_data['beer_abv'].fillna(0,inplace=True)\n",
    "sales_data['beer_ibu'].fillna(0,inplace=True)\n",
    "sales_data['global_rating'].fillna(0,inplace=True)\n",
    "sales_data['primary_beer_type'].fillna('None',inplace=True)"
   ]
  },
  {
   "cell_type": "code",
   "execution_count": null,
   "id": "820c1ae0-1383-4e35-a1ef-ec314a68bf2a",
   "metadata": {},
   "outputs": [],
   "source": [
    "#revise types as needed\n",
    "sales_data['rating_count'] = sales_data['rating_count'].astype('int')\n",
    "sales_data['date_added'] = pd.to_datetime(sales_data['date_added'])"
   ]
  },
  {
   "cell_type": "markdown",
   "id": "b076558d-a68b-4d9f-89e9-d5f011a694a1",
   "metadata": {},
   "source": [
    "## Addition of Instagram Data"
   ]
  },
  {
   "cell_type": "markdown",
   "id": "35653ea8-4b6b-4932-87c7-d5b172a081c8",
   "metadata": {},
   "source": [
    "Social media presence can be critical to a small business' success. I manually compiled the data from the breweries instagram noting the date of each post, which beer was promoted, the type of post (promoting an event, a beer, or general promotion), and the days since the previous post. It may also be important to bring in data from other social media sites."
   ]
  },
  {
   "cell_type": "code",
   "execution_count": null,
   "id": "36f31d59-9b07-452a-81b0-3e0f63d8df25",
   "metadata": {},
   "outputs": [],
   "source": [
    "insta_data = pd.read_csv('data/instagram_posts.csv')\n",
    "insta_data['date'] = pd.to_datetime(insta_data['date'])\n",
    "insta_data = insta_data.rename(columns={'type':'insta_post_type'})\n",
    "\n",
    "insta_data.head()"
   ]
  },
  {
   "cell_type": "code",
   "execution_count": null,
   "id": "0871ad98-ebba-4f09-9b91-a8270e0feec2",
   "metadata": {},
   "outputs": [],
   "source": [
    "#add whether or not there was a post on a given day\n",
    "day_posted = list(insta_data['date'])\n",
    "sales_data['insta_post'] = sales_data['date'].apply(lambda x: 1 if x in day_posted else 0)"
   ]
  },
  {
   "cell_type": "code",
   "execution_count": null,
   "id": "acb0bd77-6602-482a-a329-b9358eebf343",
   "metadata": {},
   "outputs": [],
   "source": [
    "insta_data = insta_data[['date','insta_post_type']]\n",
    "\n",
    "sales_data = pd.merge(sales_data, insta_data, on='date', how='left')\n",
    "sales_data['insta_post_type'].fillna('No Post',inplace=True)"
   ]
  },
  {
   "cell_type": "code",
   "execution_count": null,
   "id": "d72fd2bf-7f5d-4673-993e-b1d64c4c8b3b",
   "metadata": {},
   "outputs": [],
   "source": [
    "sales_data.columns"
   ]
  },
  {
   "cell_type": "markdown",
   "id": "be608a20-caf2-48f4-bdff-0cd9445b3c88",
   "metadata": {},
   "source": [
    "## Export to csv"
   ]
  },
  {
   "cell_type": "code",
   "execution_count": null,
   "id": "a8d10975-d741-4459-9670-e112ebaf76ec",
   "metadata": {},
   "outputs": [],
   "source": [
    "sales_data.to_csv('data/square/export/sales_data_clean.csv')"
   ]
  },
  {
   "cell_type": "markdown",
   "id": "53b6011f-adcc-4a50-921b-14eb11d2777e",
   "metadata": {},
   "source": [
    "# Column information"
   ]
  },
  {
   "cell_type": "markdown",
   "id": "30c317b6-9058-435f-a5c3-281c27637c7f",
   "metadata": {},
   "source": [
    "- **date**: date of a given purchase\n",
    "- **time**: time of day of a given purchase\n",
    "- **item**: the given name of a product by the brewery\n",
    "- **gross_sales**: total sales of a given item\n",
    "- **transaction_id**: a unique ID for a given transaction of a single item type, there can be multiple lines per customer per day under the same ID\n",
    "- **customer_name**: customer name if credit card used\n",
    "- **count**: count of a single item type purchased\n",
    "- **year**: year pulled from date column\n",
    "- **month**: month pulled from date column\n",
    "- **month_name**: name of month pulled from date column\n",
    "- **day**: day pulled from date column\n",
    "- **weekday**: year pulled from date column\n",
    "- **hour**: hour of the day of the transaction\n",
    "- **customer_init**: initials of the customer pulled from the customer_name column\n",
    "- **unit_price**: price of a single unit of the item\n",
    "- **beer_style**: brewer given name of the beer, says None if not a beer purchase\n",
    "- **product_type**: type of product sold: Draft, Can, Keg, Growler, Flight, Other\n",
    "- **customer_id_no**: number assigned to a given customer based off the customer name (factorize)\n",
    "- **transaction_no**: number assigned to a single transaction based off the transaction id as it spans multiple lines (factorize)\n",
    "- **visit_freq**: the number of times the customer in the given row has visited the brewery (transform by nunique)\n",
    "- **daily_no_customers**: the count of customers on a given day (groupby date and transaction number and transform by nunique)\n",
    "- **no_styles_sold**: the number of different styles sold on a given day, it is assumed this is the same as the number available\n",
    "- **precipitation**: rainfall in inches\n",
    "- **snowfall**: snowfall in inches\n",
    "- **max_temp**: maximum temperature in Fahrenheit\n",
    "- **min_temp**: minimum temperature in Fahrenheit\n",
    "- **sun_percent**: percentage of sunlight\n",
    "- **primary_beer_type**: the style of the beer as classified by Untappd\n",
    "- **beer_abv**: beer alcohol by volume\n",
    "- **beer_ibu**: beer international bitterness unit\n",
    "- **global_rating**: the average rating across all users who checked in a given beer style on Untappd\n",
    "- **rating_count**: the count of all users who checked in a given beer style on Untappd\n",
    "- **date_added**: date a beer was added to Untappd by the brewer\n",
    "- **insta_post**: binary indicating whether or not there was an instagram post on a given day\n",
    "- **insta_post_type**: No Post, Event, Beer, None\n"
   ]
  },
  {
   "cell_type": "code",
   "execution_count": null,
   "id": "388bb877-57a7-42c5-b37e-d2a286dec9f2",
   "metadata": {},
   "outputs": [],
   "source": []
  }
 ],
 "metadata": {
  "kernelspec": {
   "display_name": "Python 3 (ipykernel)",
   "language": "python",
   "name": "python3"
  },
  "language_info": {
   "codemirror_mode": {
    "name": "ipython",
    "version": 3
   },
   "file_extension": ".py",
   "mimetype": "text/x-python",
   "name": "python",
   "nbconvert_exporter": "python",
   "pygments_lexer": "ipython3",
   "version": "3.10.9"
  }
 },
 "nbformat": 4,
 "nbformat_minor": 5
}
