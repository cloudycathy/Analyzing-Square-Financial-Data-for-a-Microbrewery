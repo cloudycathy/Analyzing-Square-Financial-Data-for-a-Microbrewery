{
 "cells": [
  {
   "cell_type": "markdown",
   "id": "a5c01a31-b526-4166-b023-c87d511ea7d7",
   "metadata": {},
   "source": [
    "# Modeling\n",
    "See 'Notebooks/Data_Cleaning.ipynb' for data cleaning. Raw data imported from square.com was cleaned and some relevant features impacting the sales, such as weather and social media, were added.\n",
    "\n",
    "- [Visualizations](#Visualizations)\n",
    "- [Recursive Feature Elimination](#Recursive-Feature-Elimination)\n",
    "- [Model](#Model)"
   ]
  },
  {
   "cell_type": "code",
   "execution_count": null,
   "id": "84e5ec68-9688-438a-93bc-95c41172e562",
   "metadata": {},
   "outputs": [],
   "source": [
    "import matplotlib.pyplot as plt\n",
    "import numpy as np\n",
    "import pandas as pd\n",
    "import seaborn as sns\n",
    "\n",
    "\n",
    "from sklearn.base import clone\n",
    "from sklearn.model_selection import train_test_split\n",
    "\n",
    "from sklearn.compose import make_column_transformer\n",
    "from sklearn.preprocessing import OneHotEncoder\n",
    "from sklearn.preprocessing import StandardScaler\n",
    "\n",
    "\n",
    "from sklearn.ensemble import RandomForestClassifier\n",
    "from sklearn.feature_selection import RFE\n",
    "from sklearn.linear_model import LinearRegression\n",
    "from sklearn.linear_model import LogisticRegression\n",
    "from sklearn.model_selection import KFold\n",
    "from sklearn.naive_bayes import GaussianNB\n",
    "from sklearn.neighbors import KNeighborsClassifier\n",
    "from sklearn.pipeline import Pipeline\n",
    "from sklearn.svm import LinearSVC\n",
    "from sklearn.tree import DecisionTreeClassifier\n",
    "\n",
    "from sklearn.metrics import accuracy_score\n",
    "\n",
    "from sklearn.metrics import RocCurveDisplay\n",
    "from sklearn.metrics import confusion_matrix\n",
    "from sklearn.metrics import ConfusionMatrixDisplay\n",
    "\n",
    "from random import randint\n",
    "from sklearn.model_selection import RandomizedSearchCV\n",
    "from sklearn import set_config\n"
   ]
  },
  {
   "cell_type": "code",
   "execution_count": null,
   "id": "382323dc-4241-46ff-906f-99af54ffde68",
   "metadata": {},
   "outputs": [],
   "source": [
    "sales_data = pd.read_csv('insert_path')"
   ]
  },
  {
   "cell_type": "code",
   "execution_count": null,
   "id": "ac157164-0229-496e-96d4-ca0639a46e12",
   "metadata": {},
   "outputs": [],
   "source": [
    "sales_data = sales_data.drop('Unnamed: 0', axis='columns')"
   ]
  },
  {
   "cell_type": "code",
   "execution_count": null,
   "id": "1b0c4b23-ee9a-438f-8c31-ef84e26c5a55",
   "metadata": {},
   "outputs": [],
   "source": [
    "# Remove any non-beer transactions\n",
    "sales_data = sales_data[sales_data['beer_style'] != 'None']\n",
    "\n",
    "# Remove any cash transactions as the customers cannot be tracked\n",
    "sales_data = sales_data[sales_data['customer_id_no'] != -1]\n",
    "\n",
    "# Remove unnecessary columns\n",
    "sales_data = sales_data.drop(columns = {'item','customer_init','transaction_id'})\n",
    "#Change types\n",
    "sales_data['daily_no_customers'] = sales_data['daily_no_customers'].astype(int)\n",
    "sales_data['no_styles_sold'] = sales_data['no_styles_sold'].astype(int)"
   ]
  },
  {
   "cell_type": "code",
   "execution_count": null,
   "id": "e92765ad-40bf-490a-876a-8ca1027c1cfb",
   "metadata": {},
   "outputs": [],
   "source": [
    "bool_dict = {'No Post' : 0,\n",
    "             'Beer' : 0,\n",
    "             'Event' : 1,\n",
    "             'None' : 0}\n",
    "bool_dict_weekday = {'Monday' : 0,\n",
    "                     'Tuesday' : 0,\n",
    "                     'Wednesday' : 0,\n",
    "                     'Thursday' : 0,\n",
    "                     'Friday': 1,\n",
    "                     'Saturday': 1,\n",
    "                     'Sunday': 1}\n",
    "\n",
    "sales_data['insta_post_type'].replace(bool_dict, inplace=True)\n",
    "sales_data['weekday'].replace(bool_dict_weekday, inplace=True)\n",
    "sales_data = sales_data.rename(columns={'insta_post_type':'event_promoted',\n",
    "                                        'weekday':'is_weekend'})\n",
    "sales_data.loc[sales_data['precipitation'] > 0, 'precipitation'] = 1 # is there precipitation?\n",
    "sales_data.loc[sales_data['snowfall'] > 0, 'snowfall'] = 1 # is there snow?\n",
    "\n",
    "sales_data['avg_temp'] = sales_data[['max_temp', 'min_temp']].mean(axis=1)"
   ]
  },
  {
   "cell_type": "code",
   "execution_count": null,
   "id": "9bb08b74-11f6-4c4a-9b17-15a0fd38cefa",
   "metadata": {},
   "outputs": [],
   "source": [
    "sales_data['can_purchase'] = sales_data['product_type']\n",
    "sales_data['flight_purchase'] = sales_data['product_type']\n",
    "sales_data['draft_purchase'] = sales_data['product_type']\n",
    "sales_data['first_visit_year'] = sales_data['year']"
   ]
  },
  {
   "cell_type": "code",
   "execution_count": null,
   "id": "b3924006-5f69-4efb-8eed-25dc508762c4",
   "metadata": {},
   "outputs": [],
   "source": [
    "# group by transaction to get each transaction into a single line\n",
    "temp = sales_data.groupby('transaction_no').agg({'customer_id_no':'max',\n",
    "                                                 'gross_sales':'sum',\n",
    "                                                 'year':'max',\n",
    "                                                 'first_visit_year':'min',\n",
    "                                                 'beer_style':lambda x: x.nunique(),\n",
    "                                                 'can_purchase':lambda x: 1 if 'Can' in x.values else 0,\n",
    "                                                 'flight_purchase':lambda x: 1 if 'Flight' in x.values else 0,\n",
    "                                                 'draft_purchase':lambda x: 1 if 'Draft' in x.values else 0,\n",
    "                                                 'visit_freq':'max',\n",
    "                                                 'no_styles_sold':'mean',\n",
    "                                                 'primary_beer_type':lambda x: x.value_counts().idxmax(),\n",
    "                                                 'beer_abv':'mean',\n",
    "                                                 'global_rating':'mean',\n",
    "                                                 'insta_post':'max',\n",
    "                                                 'event_promoted':'max',\n",
    "                                                 'daily_no_customers':'max',\n",
    "                                                 'avg_temp':'max'})"
   ]
  },
  {
   "cell_type": "code",
   "execution_count": null,
   "id": "290adbf5-681c-42a8-9dc0-d3b28a61d41f",
   "metadata": {},
   "outputs": [],
   "source": [
    "# group by customer to get data for each trackable customer\n",
    "customers = temp.groupby('customer_id_no').agg({'gross_sales':'max',\n",
    "                                                'year':lambda x: x.nunique(),\n",
    "                                                'first_visit_year':'min',\n",
    "                                                'beer_style':'max',\n",
    "                                                'can_purchase':'max',\n",
    "                                                'flight_purchase':'max',\n",
    "                                                'draft_purchase':'max',\n",
    "                                                'visit_freq':'max',\n",
    "                                                'no_styles_sold':'mean',\n",
    "                                                'primary_beer_type':lambda x: x.value_counts().idxmax(),\n",
    "                                                'daily_no_customers':'max',\n",
    "                                                'avg_temp':'max',\n",
    "                                                'beer_abv':'mean',\n",
    "                                                'global_rating':'mean',\n",
    "                                                'insta_post':'max',\n",
    "                                                'event_promoted':'max'})\n",
    "\n",
    "customers = pd.DataFrame(customers).reset_index()\n",
    "customers = customers[~(customers['customer_id_no'] == -1)]\n",
    "\n",
    "customers = customers.rename(columns={'beer_style':'beer_style_count',\n",
    "                                      'event_promoted':'attended_event'})\n",
    "\n",
    "customers['returning'] = customers['visit_freq']\n",
    "\n",
    "customers['returning'] = customers['returning'].apply(lambda x: 'Return' if x > 1 else 'Lost')"
   ]
  },
  {
   "cell_type": "markdown",
   "id": "c1d416fb-8228-4e73-920a-08dc67765a65",
   "metadata": {},
   "source": [
    "# Visualizations"
   ]
  },
  {
   "cell_type": "code",
   "execution_count": null,
   "id": "ed66c4e2-beb5-4b24-a3f4-e97a1394f8dc",
   "metadata": {},
   "outputs": [],
   "source": [
    "daily_returns = sales_data[['date','visit_freq']]\n",
    "daily_returns['returning'] = daily_returns['visit_freq']\n",
    "daily_returns['returning'] = daily_returns['returning'].apply(lambda x: 'Return' if x > 1 else 'Lost')\n",
    "\n",
    "daily_returner = daily_returns.groupby('date').returning.value_counts().unstack(fill_value=0)\n",
    "daily_returner['percent_returned'] = daily_returner['Return'] / (daily_returner['Return'] + daily_returner['Lost'])"
   ]
  },
  {
   "cell_type": "code",
   "execution_count": null,
   "id": "2a386884-2fee-4f79-b719-2c544b7866d9",
   "metadata": {},
   "outputs": [],
   "source": [
    "percent_return = customers['returning'].value_counts()['Return']/(customers['returning'].value_counts()['Lost'] + customers['returning'].value_counts()['Return'])\n",
    "percent_lost = customers['returning'].value_counts()['Lost']/(customers['returning'].value_counts()['Lost'] + customers['returning'].value_counts()['Return'])\n",
    "\n",
    "print(f\"Percentage of customers returning: {percent_return:.0%}\" f\"\\nPercentage of customers lost: {percent_lost:.0%}\")\n",
    "print(f\"Percentage of daily customers that are returning customers: {(daily_returner['percent_returned'].mean()):.0%}\")"
   ]
  },
  {
   "cell_type": "code",
   "execution_count": null,
   "id": "5ad2671a-e7c6-4a03-9c5b-11797c959c12",
   "metadata": {},
   "outputs": [],
   "source": [
    "import seaborn as sns\n",
    "import matplotlib.pyplot as plt\n",
    "\n",
    "daily_visitors = sales_data.groupby('date').agg({'daily_no_customers':'max',\n",
    "                                                 'year':'max',\n",
    "                                                 'month':'max',\n",
    "                                                 'no_styles_sold':'max',\n",
    "                                                 'gross_sales': 'sum',\n",
    "                                                 'global_rating': 'mean'}).reset_index()\n",
    "daily_visitors.set_index('date', inplace=True)\n",
    "daily_visitors = daily_visitors[daily_visitors['year'] > 2019]\n",
    "daily_visitors_monthly = daily_visitors['daily_no_customers'].resample('M').mean().reset_index()\n",
    "\n",
    "sns.set_style(\"whitegrid\")\n",
    "plt.figure(figsize=(12, 6))\n",
    "sns.lineplot(data=daily_visitors_monthly, x='date', y='daily_no_customers')\n",
    "plt.title('Average Monthly Customers from 2020 to Present')\n",
    "plt.xlabel('Date')\n",
    "plt.ylabel('Customer Count')\n",
    "plt.show()"
   ]
  },
  {
   "cell_type": "code",
   "execution_count": null,
   "id": "5a569ca5-517a-4034-b10e-7734da68cdcd",
   "metadata": {},
   "outputs": [],
   "source": [
    "daily_visitors_plt = daily_visitors.groupby('year')['daily_no_customers'].mean()\n",
    "daily_visitors_plt = pd.DataFrame(daily_visitors_plt).reset_index()\n",
    "\n",
    "palette = \"colorblind\"\n",
    "sns.barplot(data=daily_visitors_plt, x='year', y='daily_no_customers', palette=palette)\n",
    "plt.title('Daily Customers Average per Year')\n",
    "plt.xlabel('Year')\n",
    "plt.ylabel('Average Daily Customers')\n",
    "plt.show()"
   ]
  },
  {
   "cell_type": "code",
   "execution_count": null,
   "id": "e37ba2ad-07a8-42d8-b3b8-75f8c3551fb9",
   "metadata": {},
   "outputs": [],
   "source": [
    "palette = sns.color_palette(\"colorblind\")\n",
    "sns.countplot(data=customers, x = 'returning', hue='returning', palette=palette)\n",
    "plt.title('Lost and Returning Customer Counts from 2020 to Present', fontsize=20)\n",
    "plt.xlabel('Customer status', fontsize=16)\n",
    "plt.ylabel('Count of customers', fontsize=16)\n",
    "plt.show()"
   ]
  },
  {
   "cell_type": "code",
   "execution_count": null,
   "id": "dc6dff43-35cf-40b3-9e76-428dc85251e3",
   "metadata": {},
   "outputs": [],
   "source": [
    "# correlation plot\n",
    "customers_plot = customers[customers['first_visit_year'] < 2023]\n",
    "import numpy as np\n",
    "customers_dropped = customers_plot.drop(columns={'customer_id_no',\n",
    "                                                 'first_visit_year',\n",
    "                                                 'primary_beer_type',\n",
    "                                                 'visit_freq',\n",
    "                                                 'year'}, axis=1)\n",
    "\n",
    "customers_dropped['returning'] = customers_dropped['returning'].apply(lambda x: 1 if x == 'Return' else 0)\n",
    "\n",
    "customers_dropped_corr = customers_dropped.corrwith(customers_dropped['returning'])\n",
    "y_1 = customers_dropped_corr.index\n",
    "y_1 = y_1[:-1]\n",
    "x_1 = ['returning']\n",
    "sns.heatmap(customers_dropped_corr[:-1,np.newaxis], annot = True, xticklabels = x_1, yticklabels = y_1);"
   ]
  },
  {
   "cell_type": "markdown",
   "id": "e46b1a69-7757-4a53-b5c0-19651370d905",
   "metadata": {},
   "source": [
    "# Recursive Feature Elimination"
   ]
  },
  {
   "cell_type": "code",
   "execution_count": null,
   "id": "7d7a4d43-b941-4558-ae75-d85f332fca34",
   "metadata": {},
   "outputs": [],
   "source": [
    "# creation of X,y, training and testing\n",
    "# encoding\n",
    "X = customers.drop(['returning','customer_id_no','year','draft_purchase','visit_freq'],axis=1)\n",
    "\n",
    "y = customers['returning']\n",
    "ohe_cols = X.select_dtypes('object').columns.tolist()\n",
    "\n",
    "transformer = make_column_transformer((OneHotEncoder(), ohe_cols),\n",
    "                                      remainder = StandardScaler())\n",
    "\n",
    "X_train, X_test, y_train, y_test = train_test_split(X, y,\n",
    "                                                    test_size = 0.2, random_state=14)\n",
    "\n",
    "training = pd.DataFrame(transformer.fit_transform(X_train), columns = transformer.get_feature_names_out())\n",
    "training.head()"
   ]
  },
  {
   "cell_type": "code",
   "execution_count": null,
   "id": "53eebf9b-6748-45e1-8c26-e700eaf6c256",
   "metadata": {},
   "outputs": [],
   "source": [
    "print(\"Features: \\n mean:\\n {}\\n standard deviation: \\n{}\".format(training.mean(), training.std()))"
   ]
  },
  {
   "cell_type": "markdown",
   "id": "90efea3e-bc17-4813-9678-215d3eaf17c0",
   "metadata": {},
   "source": [
    "- the above shows the scaler is working correctly: mean approx 0 and stdev is approx 1"
   ]
  },
  {
   "cell_type": "markdown",
   "id": "352a0425-2dcc-490e-90ee-f3c05ba287d2",
   "metadata": {},
   "source": [
    "## Determine number of features"
   ]
  },
  {
   "cell_type": "code",
   "execution_count": null,
   "id": "93d3fccd-06b7-4bb5-acdd-6550aa8646ed",
   "metadata": {},
   "outputs": [],
   "source": [
    "score_val = []\n",
    "count_val = []\n",
    "for i in range(1, len(X.columns)):\n",
    "    rfe = RFE(estimator=LogisticRegression(), n_features_to_select=i)\n",
    "    pipe = Pipeline([('encoder', transformer),\n",
    "     ('selector', rfe),\n",
    "     ('model', LogisticRegression(solver = 'lbfgs', max_iter = 1000, random_state=14))])\n",
    "    pipe.fit(X_train, y_train)\n",
    "    pipe.score(X_train, y_train)\n",
    "\n",
    "    count_val.append(i)\n",
    "    score_val.append(pipe.score(X_train, y_train))"
   ]
  },
  {
   "cell_type": "code",
   "execution_count": null,
   "id": "353b4421-5aa7-455d-9387-936ed1136cad",
   "metadata": {},
   "outputs": [],
   "source": [
    "plt.plot(count_val, score_val)\n",
    "plt.xticks(list(range(1, 12,1)))\n",
    "plt.xlabel('Number of features')\n",
    "plt.ylabel('Score')\n",
    "plt.ylabel('Score for number of features')\n",
    "plt.title('Determination of number of features')\n",
    "plt.show()"
   ]
  },
  {
   "cell_type": "markdown",
   "id": "c5ab6f7e-b5e9-478b-b6b7-a9670683e4bd",
   "metadata": {},
   "source": [
    "- Revise number of features below based on the above"
   ]
  },
  {
   "cell_type": "code",
   "execution_count": null,
   "id": "c7b199e8-056c-44e5-b584-05a271f02362",
   "metadata": {},
   "outputs": [],
   "source": [
    "n_feat = 4\n",
    "\n",
    "rfe = RFE(estimator=LogisticRegression(), n_features_to_select=n_feat)\n",
    "pipe = Pipeline([('encoder', transformer),\n",
    " ('selector', rfe),\n",
    " ('logreg', LogisticRegression(solver = 'lbfgs', max_iter = 1000, random_state=14))])\n",
    "pipe.fit(X_train, y_train)"
   ]
  },
  {
   "cell_type": "code",
   "execution_count": null,
   "id": "c3070633-c793-4c44-8e80-57c33e9c55e3",
   "metadata": {},
   "outputs": [],
   "source": [
    "ranking_log = pipe.named_steps['selector'].ranking_"
   ]
  },
  {
   "cell_type": "code",
   "execution_count": null,
   "id": "c239b2f5-d3a8-4a0c-855e-7bea90cc8801",
   "metadata": {},
   "outputs": [],
   "source": [
    "print('Train score: ' + str(pipe.score(X_train, y_train)))\n",
    "print('Test score: ' + str(pipe.score(X_test, y_test)))\n",
    "top_feat_dict = str(sorted(zip(map(lambda x: round(x,4), ranking_log), X.columns)))\n",
    "print('Top features: ' + top_feat_dict)\n",
    "from sklearn.metrics import accuracy_score\n",
    "predictions_log = pipe.predict(X_test)\n",
    "accuracy_log = accuracy_score(y_test, predictions_log)\n",
    "print('Logistic regression accuracy: {:.0%}'.format(accuracy_log))"
   ]
  },
  {
   "cell_type": "markdown",
   "id": "215fd53a-f1a2-4732-ab37-b33089e964f2",
   "metadata": {},
   "source": [
    "- Revise chosen features based on the above"
   ]
  },
  {
   "cell_type": "code",
   "execution_count": null,
   "id": "2fb0da29-f1fb-43ac-930a-679900aa1ba9",
   "metadata": {},
   "outputs": [],
   "source": [
    "imp_feat = customers[['global_rating','no_styles_sold','beer_style_count','can_purchase']]"
   ]
  },
  {
   "cell_type": "code",
   "execution_count": null,
   "id": "1229c775-94ad-4035-863b-6a3e8ff320ec",
   "metadata": {},
   "outputs": [],
   "source": [
    "cm_log = confusion_matrix(y_test, predictions_log, labels=pipe.classes_)\n",
    "disp = ConfusionMatrixDisplay(confusion_matrix=cm_log, display_labels=pipe.classes_)\n",
    "disp.plot()\n",
    "plt.show()"
   ]
  },
  {
   "cell_type": "markdown",
   "id": "54db4823-80b9-420e-b5f1-f6e1e85d2b52",
   "metadata": {},
   "source": [
    "# Model\n",
    "- Build a model off of the chosen features"
   ]
  },
  {
   "cell_type": "code",
   "execution_count": null,
   "id": "0d470ad5-1ba9-4a60-9de5-11041ad87b18",
   "metadata": {},
   "outputs": [],
   "source": [
    "X_new = imp_feat\n",
    "\n",
    "y_new = customers['returning']\n",
    "ohe_cols = X_new.select_dtypes('object').columns.tolist()\n",
    "\n",
    "transformer = make_column_transformer((OneHotEncoder(), ohe_cols),\n",
    "                                      remainder = StandardScaler())\n",
    "\n",
    "X_train_new, X_test_new, y_train_new, y_test_new = train_test_split(X_new, y_new,\n",
    "                                                        test_size = 0.2, random_state=14)"
   ]
  },
  {
   "cell_type": "code",
   "execution_count": null,
   "id": "61aad248-4459-469f-9f8e-a670cf7b4cde",
   "metadata": {},
   "outputs": [],
   "source": [
    "models = [LogisticRegression(), LinearSVC(), DecisionTreeClassifier(),\n",
    "          KNeighborsClassifier(), GaussianNB(), RandomForestClassifier()]\n",
    "\n",
    "from sklearn.model_selection import cross_val_score\n",
    "from sklearn.metrics import mean_squared_error, mean_absolute_error\n",
    "from sklearn.metrics import classification_report\n",
    "\n",
    "import math\n",
    "\n",
    "model_dict = {}\n",
    "model_dict_2 = {}\n",
    "\n",
    "for model in models:\n",
    "    scores=[]\n",
    "    pipe = Pipeline([('encoder', transformer), ('model', model)])\n",
    "    pipe.fit(X_train_new, y_train_new)\n",
    "    prediction = model.predict(X_test_new) \n",
    "    scores.append(cross_val_score(pipe, X_new, y_new, cv=5))\n",
    "    model_dict[str(model)] = scores"
   ]
  },
  {
   "cell_type": "code",
   "execution_count": null,
   "id": "c87b6fc3-c620-4171-8833-d68c0932f9bf",
   "metadata": {},
   "outputs": [],
   "source": [
    "scores_df = pd.DataFrame.from_dict(model_dict, orient='index')\n",
    "scores_df['0'] = scores_df[0].apply(lambda x: x[0])\n",
    "scores_df['1'] = scores_df[0].apply(lambda x: x[1])\n",
    "scores_df['2'] = scores_df[0].apply(lambda x: x[2])\n",
    "scores_df['3'] = scores_df[0].apply(lambda x: x[3])\n",
    "scores_df['4'] = scores_df[0].apply(lambda x: x[4])\n",
    "scores_df = scores_df.drop(columns={0}, axis = 1)\n",
    "scores_df = scores_df.transpose()\n",
    "scores_df.head()"
   ]
  },
  {
   "cell_type": "markdown",
   "id": "b825e967-ea35-47a5-8722-6144e7d09e8e",
   "metadata": {},
   "source": [
    "- Based on the scores above, choose the best model - here Random Forest was used"
   ]
  },
  {
   "cell_type": "code",
   "execution_count": null,
   "id": "daae338d-7d81-4f21-b03d-8f3c76442770",
   "metadata": {},
   "outputs": [],
   "source": [
    "param_dist = {'n_estimators': range(1,500,50),\n",
    "              'max_depth': range(1,20,1)}\n",
    "\n",
    "rf = RandomForestClassifier()\n",
    "\n",
    "# Use random search to find the best hyperparameters\n",
    "rand_search = RandomizedSearchCV(rf, \n",
    "                                 param_distributions = param_dist, \n",
    "                                 n_iter=5, \n",
    "                                 cv=5,\n",
    "                                random_state=14)\n",
    "\n",
    "# Fit the random search object to the data\n",
    "rand_search.fit(X_train_new, y_train_new)\n",
    "\n",
    "# Create a variable for the best model\n",
    "best_rf = rand_search.best_estimator_\n",
    "\n",
    "# Print the best hyperparameters\n",
    "print('Best hyperparameters:',  rand_search.best_params_)\n",
    "\n",
    "best_rf"
   ]
  },
  {
   "cell_type": "code",
   "execution_count": null,
   "id": "36cce76e-bc46-4b4f-bec2-3a113d06b38e",
   "metadata": {},
   "outputs": [],
   "source": [
    "# Choosing random forest\n",
    "set_config(transform_output=\"pandas\")\n",
    "\n",
    "pipe_rf = Pipeline([('encoder', transformer), ('model', best_rf)])\n",
    "pipe_rf.fit(X_train_new, y_train_new)"
   ]
  },
  {
   "cell_type": "code",
   "execution_count": null,
   "id": "28b9da46-2834-474c-8f92-c4edd655382a",
   "metadata": {},
   "outputs": [],
   "source": [
    "predictions_rf = pipe_rf.predict(X_test_new)\n",
    "accuracy_rf = accuracy_score(y_test_new, predictions_rf)\n",
    "print('Accuracy score {:.0%}'.format(accuracy_rf))"
   ]
  },
  {
   "cell_type": "code",
   "execution_count": null,
   "id": "5a186fa6-c748-4000-b8ce-8ed590bf8001",
   "metadata": {},
   "outputs": [],
   "source": [
    "cm = confusion_matrix(y_test_new, predictions_rf, labels=pipe_rf.classes_)\n",
    "disp = ConfusionMatrixDisplay(confusion_matrix=cm, display_labels=pipe_rf.classes_)\n",
    "disp.plot()\n",
    "plt.title('Confusion Matrix')\n",
    "plt.show()"
   ]
  },
  {
   "cell_type": "code",
   "execution_count": null,
   "id": "7f1f4917-8335-421d-a8b4-fc4da9eb70a0",
   "metadata": {},
   "outputs": [],
   "source": [
    "RocCurveDisplay.from_estimator(pipe_rf, X_test_new, y_test_new)\n",
    "plt.plot([0, 1], [0, 1])\n",
    "sns.set_style(\"whitegrid\")\n",
    "plt.title('Receiver operating characteristic (ROC) curve')\n",
    "plt.show()"
   ]
  },
  {
   "cell_type": "code",
   "execution_count": null,
   "id": "efdc17cd-41e2-4b58-8fe2-775117ba5f36",
   "metadata": {},
   "outputs": [],
   "source": [
    "tp = cm[0][0]\n",
    "fp = cm[0][1]\n",
    "tn = cm[1][1]\n",
    "fn = cm[1][0]\n",
    "accuracy = (tp + tn) / (tp + fp + tn + fn)\n",
    "error_rate = 1 - accuracy\n",
    "true_pos_rate = tp / (tp +fn)\n",
    "false_pos_rate = fn / (tp +fn)\n",
    "print(\"Model accuracy: {:.2}\".format(accuracy))\n",
    "print(\"Model error rate: {:.2}\".format(error_rate))\n",
    "print(\"Model true positive rate: {:.2}\".format(true_pos_rate))\n",
    "print(\"Model false positive rate: {:.2}\".format(false_pos_rate))"
   ]
  },
  {
   "cell_type": "markdown",
   "id": "76877dad-7b0e-4a64-9b9b-45590b046526",
   "metadata": {},
   "source": [
    "- Verify that the confusion matrix is in line with the accuracy score.\n",
    "- A more perfect model would have the ROC curve close to the y-axis and 1.0, giving an AUC of 1."
   ]
  },
  {
   "cell_type": "code",
   "execution_count": null,
   "id": "94bbd09d-ada1-4716-aeee-87cc41d22c41",
   "metadata": {},
   "outputs": [],
   "source": [
    "print(pd.Series(predictions_rf[:10]))\n",
    "print(y_test_new[:10].reset_index().drop('index',axis=1))"
   ]
  },
  {
   "cell_type": "code",
   "execution_count": null,
   "id": "3d86db34-fdee-4fd5-87f8-2a53a54c5b50",
   "metadata": {},
   "outputs": [],
   "source": [
    "rf = pipe_rf[-1]\n",
    "data = list(zip(rf.feature_names_in_, rf.feature_importances_))\n",
    "df_importances = pd.DataFrame(data, columns=['Feature', 'Importance']).sort_values(by='Importance', ascending=False)\n",
    "df_importances['Feature'] = df_importances['Feature'].replace(\"remainder__\", '', regex=True)"
   ]
  },
  {
   "cell_type": "code",
   "execution_count": null,
   "id": "79611cf2-85b0-43d9-816a-da0744d8980d",
   "metadata": {},
   "outputs": [],
   "source": [
    "sns.barplot(data = df_importances, y='Feature', x='Importance', palette=palette)\n",
    "plt.title(\"Feature Importance\")\n",
    "plt.show()"
   ]
  },
  {
   "cell_type": "markdown",
   "id": "4cb6cf2e-0cec-4e4b-b995-29bd50cb5193",
   "metadata": {},
   "source": [
    "- Following determination of most important features, dig deeper and look for actionable solutions based on those features. In the case of my project, I found customers who return try 1 more beer on average per visit, so it may make sense to push new customers towards flights. The purchasing of cans could also predict a customer's return, a can fridge had been installed recently and the effects are yet to be determined. If a lot of styles were available, customers were more likely to return which would explain the drop of returning customers over time that this brewery was experiencing. Investments in new styles were considered."
   ]
  },
  {
   "cell_type": "code",
   "execution_count": null,
   "id": "24743317-b2af-4bef-bb01-0f1659f8e057",
   "metadata": {},
   "outputs": [],
   "source": []
  }
 ],
 "metadata": {
  "kernelspec": {
   "display_name": "Python 3 (ipykernel)",
   "language": "python",
   "name": "python3"
  },
  "language_info": {
   "codemirror_mode": {
    "name": "ipython",
    "version": 3
   },
   "file_extension": ".py",
   "mimetype": "text/x-python",
   "name": "python",
   "nbconvert_exporter": "python",
   "pygments_lexer": "ipython3",
   "version": "3.10.9"
  }
 },
 "nbformat": 4,
 "nbformat_minor": 5
}
