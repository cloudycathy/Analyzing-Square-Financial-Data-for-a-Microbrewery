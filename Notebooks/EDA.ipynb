{
 "cells": [
  {
   "cell_type": "markdown",
   "id": "87e228e4-3adc-4681-aec0-3ea281926ace",
   "metadata": {},
   "source": [
    "# Exploratory Data Analysis"
   ]
  },
  {
   "cell_type": "markdown",
   "id": "342caf70-7681-4312-ab6a-e09b91507f69",
   "metadata": {},
   "source": [
    "See 'Notebooks/Data_Cleaning.ipynb' for data cleaning. Raw data imported from square.com was cleaned and some relevant features impacting the sales, such as weather and social media, were added.\n",
    "\n",
    "- [Creation of secondary dataframes](#Creation-of-secondary-dataframes)\n",
    "- [Daily info](#Daily-info)\n",
    "- [Sales of products](#Sales-of-products)"
   ]
  },
  {
   "cell_type": "code",
   "execution_count": null,
   "id": "6fc85fa2-90fa-4fee-bef1-3f486a8440fe",
   "metadata": {},
   "outputs": [],
   "source": [
    "import pandas as pd\n",
    "import datetime as dt\n",
    "import numpy as np\n",
    "import matplotlib.pyplot as plt\n",
    "import matplotlib.dates as mdates\n",
    "import seaborn as sns"
   ]
  },
  {
   "cell_type": "code",
   "execution_count": null,
   "id": "5bdd2689-1ede-4a5a-a666-1366325ec8e5",
   "metadata": {},
   "outputs": [],
   "source": [
    "#importing cleaned data\n",
    "sales_data = pd.read_csv('insert_path')\n",
    "sales_data = sales_data.drop('Unnamed: 0', axis='columns')\n",
    "sales_data['date'] = pd.to_datetime(sales_data['date'])"
   ]
  },
  {
   "cell_type": "code",
   "execution_count": null,
   "id": "cfec8499-885d-4227-805e-a3c9e4b6ccc1",
   "metadata": {},
   "outputs": [],
   "source": [
    "sales_data.select_dtypes(include=[np.number]).columns"
   ]
  },
  {
   "cell_type": "code",
   "execution_count": null,
   "id": "1c80b216-90df-41e9-af5b-983ab270e9ef",
   "metadata": {},
   "outputs": [],
   "source": [
    "descript_data = sales_data.select_dtypes(include=[np.number]).drop(['month','day','year','hour','customer_id_no','transaction_no'], axis = 'columns')"
   ]
  },
  {
   "cell_type": "code",
   "execution_count": null,
   "id": "8c4649e4-aeee-47b9-afa2-cc5785560be0",
   "metadata": {},
   "outputs": [],
   "source": [
    "#descriptive statistics summary\n",
    "descript_data.describe()"
   ]
  },
  {
   "cell_type": "markdown",
   "id": "64ed29bd-1330-4198-bb9c-f02ef7fd254a",
   "metadata": {},
   "source": [
    "# Creation of secondary dataframes"
   ]
  },
  {
   "cell_type": "code",
   "execution_count": null,
   "id": "14a30c20-61e3-47ed-aaa8-96e38522d968",
   "metadata": {},
   "outputs": [],
   "source": [
    "# Remove any non-beer transactions\n",
    "sales_data_beer = sales_data[sales_data['beer_style'] != 'None']\n",
    "sales_data_beer.head()"
   ]
  },
  {
   "cell_type": "code",
   "execution_count": null,
   "id": "bd4d3b4e-2cb4-424d-aa1c-62ec157ba4fa",
   "metadata": {},
   "outputs": [],
   "source": [
    "# Remove any cash transactions as the customers cannot be tracked\n",
    "sales_data_trackable = sales_data[sales_data['customer_id_no'] != -1]\n",
    "sales_data_trackable.head()"
   ]
  },
  {
   "cell_type": "code",
   "execution_count": null,
   "id": "484f5696-02e3-4c73-a554-0bcdacc14e6d",
   "metadata": {},
   "outputs": [],
   "source": [
    "# Group by date\n",
    "daily_grouped = sales_data.groupby(['date','weekday']).agg({'daily_no_customers':'max',\n",
    "                                                 'no_styles_sold':'max',\n",
    "                                                 'gross_sales': 'sum'}).reset_index()"
   ]
  },
  {
   "cell_type": "code",
   "execution_count": null,
   "id": "17b4c76a-6205-4112-ad37-afa96e3e2da4",
   "metadata": {},
   "outputs": [],
   "source": [
    "daily_grouped[['gross_sales', 'daily_no_customers', 'no_styles_sold']].describe()"
   ]
  },
  {
   "cell_type": "code",
   "execution_count": null,
   "id": "fe31c857-2495-4da5-b709-6432ed720131",
   "metadata": {},
   "outputs": [],
   "source": [
    "daily_grouped.head()"
   ]
  },
  {
   "cell_type": "markdown",
   "id": "cb57e7f8-e4f9-492d-b740-708313da30c2",
   "metadata": {},
   "source": [
    "# Daily info\n",
    "### Initialize plots"
   ]
  },
  {
   "cell_type": "code",
   "execution_count": null,
   "id": "fa4de725-f1a4-4b49-aa79-9c41d8a47811",
   "metadata": {},
   "outputs": [],
   "source": [
    "day_dict = {'Sunday':0, 'Monday':1, 'Tuesday':2, 'Wednesday':3, 'Thursday':4, 'Friday':5, 'Saturday':6}\n",
    "daily_grouped['day_id'] = daily_grouped['weekday'].map(day_dict)\n",
    "custom_palette = sns.color_palette(\"Blues\")\n",
    "sns.set_style(\"darkgrid\", {\"grid.color\": \".6\", \"grid.linestyle\": \":\"})"
   ]
  },
  {
   "cell_type": "markdown",
   "id": "c878747d-c087-4265-9ace-9e4067ff06f9",
   "metadata": {},
   "source": [
    "### Sales by day of the week"
   ]
  },
  {
   "cell_type": "code",
   "execution_count": null,
   "id": "ca304ea9-de32-44a3-b018-cdd711cbd59a",
   "metadata": {},
   "outputs": [],
   "source": [
    "plt.figure(figsize=(10, 6))\n",
    "sns.boxplot(data = daily_grouped, x = 'weekday', y='gross_sales', order = day_dict.keys(), palette=custom_palette, linewidth = 0.5)\n",
    "plt.title('Sales by day of week', fontsize = 16)\n",
    "plt.xlabel('Day of the Week', fontsize = 12)\n",
    "plt.ylabel('Sales (in dollars)', fontsize = 12)\n",
    "\n",
    "medians = daily_grouped.groupby(['day_id','weekday'])['gross_sales'].median()\n",
    "\n",
    "for i, median in enumerate(medians):\n",
    "    plt.text(i, median, f\"{median}\", horizontalalignment='center', color='black', weight='bold')\n",
    "plt.tight_layout()\n",
    "# plt.savefig('plot/sales_by_weekday.png',bbox_inches='tight')\n",
    "# See project/folder/plots\n",
    "plt.show()"
   ]
  },
  {
   "cell_type": "markdown",
   "id": "10a57e19-914d-4c79-94c4-c81fdcd439ad",
   "metadata": {},
   "source": [
    "### Customer count by day of week"
   ]
  },
  {
   "cell_type": "code",
   "execution_count": null,
   "id": "10dd6be4-6c1c-4617-be61-72900e447b6a",
   "metadata": {},
   "outputs": [],
   "source": [
    "plt.figure(figsize=(10, 6))\n",
    "sns.boxplot(data = daily_grouped, x = 'weekday', y='daily_no_customers', order = day_dict.keys(), palette=custom_palette, linewidth = 0.5)\n",
    "plt.title('Number of customers by day of week', fontsize = 16)\n",
    "plt.xlabel('Day of the Week', fontsize = 12)\n",
    "plt.ylabel('Number of customers', fontsize = 12)\n",
    "\n",
    "medians = daily_grouped.groupby(['day_id','weekday'])['daily_no_customers'].median()\n",
    "\n",
    "for i, median in enumerate(medians):\n",
    "    plt.text(i, median, f\"{median}\", horizontalalignment='left', color='black', weight='bold')\n",
    "plt.tight_layout()\n",
    "\n",
    "plt.show()"
   ]
  },
  {
   "cell_type": "markdown",
   "id": "1d68ed08-4d7b-4953-8135-f7c827d75952",
   "metadata": {},
   "source": [
    "### Distribution of daily gross_sales"
   ]
  },
  {
   "cell_type": "code",
   "execution_count": null,
   "id": "05a1be75-35ce-48ef-bb29-c11099b6a094",
   "metadata": {},
   "outputs": [],
   "source": [
    "max_daily_sale = daily_grouped['gross_sales'].max()\n",
    "max_daily_sale"
   ]
  },
  {
   "cell_type": "code",
   "execution_count": null,
   "id": "bda62b91-cbd2-422d-910b-2a2824f5c939",
   "metadata": {},
   "outputs": [],
   "source": [
    "plt.figure(figsize=(10, 5))\n",
    "sns.displot(data = daily_grouped, x='gross_sales', hue='weekday', kde=True)\n",
    "plt.title('Distribution of Daily Gross Sales', fontsize = 16)\n",
    "plt.xlabel('Range of Daily Gross Sales', fontsize = 12)\n",
    "plt.ylabel('Count', fontsize = 12)\n",
    "plt.xticks(np.arange(0, max_daily_sale, 500))\n",
    "plt.show()"
   ]
  },
  {
   "cell_type": "markdown",
   "id": "58244252-b2a3-4680-bba8-533015c86639",
   "metadata": {},
   "source": [
    "# Sales of products"
   ]
  },
  {
   "cell_type": "markdown",
   "id": "98210fac-d70c-45bf-aa45-25f276aff7fd",
   "metadata": {},
   "source": [
    "### Sales by product type daily"
   ]
  },
  {
   "cell_type": "code",
   "execution_count": null,
   "id": "f39f5ed5-ba4f-4300-b3db-300108d96bdd",
   "metadata": {},
   "outputs": [],
   "source": [
    "daily_grouped_type = sales_data[sales_data['year']==2023].groupby(['date','weekday','product_type']).agg({'gross_sales':'sum'}).reset_index() #sum gross sales daily by date\n",
    "daily_grouped_type_df = daily_grouped_type.groupby(['weekday', 'product_type']).agg({'gross_sales':'mean'}).reset_index() #average gross sales by weekday\n",
    "daily_grouped_type_df['day_id'] = daily_grouped_type_df['weekday'].map(day_dict)\n",
    "\n",
    "daily_grouped_type_df.head()"
   ]
  },
  {
   "cell_type": "code",
   "execution_count": null,
   "id": "3b82154c-9fe2-40c9-b443-51b80679d4d3",
   "metadata": {},
   "outputs": [],
   "source": [
    "daily_grouped_type = sales_data.groupby(['product_type', 'weekday'])['gross_sales'].mean().reset_index()\n",
    "unique_products = daily_grouped_type['product_type'].unique()\n",
    "\n",
    "days_of_week = [\"Monday\", \"Tuesday\", \"Wednesday\", \"Thursday\", \"Friday\", \"Saturday\", \"Sunday\"]\n",
    "\n",
    "num_cols = 2\n",
    "num_rows = int(round(len(day_dict.keys()) / num_cols, 0))\n",
    "\n",
    "fig, axs = plt.subplots(num_rows, num_cols, figsize=(10, 4 * num_rows))\n",
    "axs = axs.flatten()\n",
    "\n",
    "for i, day in enumerate(day_dict.keys()):\n",
    "    ax = axs[i] if num_rows > 1 else axs\n",
    "    product_data = daily_grouped_type[daily_grouped_type['weekday'] == day]\n",
    "    \n",
    "    # Initialize sales for each prod to 0\n",
    "    sales_per_day = {prod: 0 for prod in unique_products}\n",
    "    \n",
    "    for product, sales in zip(product_data['product_type'], product_data['gross_sales']):\n",
    "        sales_per_day[product] = sales\n",
    "    \n",
    "    ax.bar(sales_per_day.keys(), sales_per_day.values())\n",
    "    ax.set_title(f\"Sales for {day}\")\n",
    "    ax.set_xlabel(\"Product\")\n",
    "    ax.set_ylabel(\"Gross Sales\")\n",
    "\n",
    "plt.tight_layout()\n",
    "plt.show()\n"
   ]
  },
  {
   "cell_type": "markdown",
   "id": "bd86d9b7-357b-47c1-a5ce-5027c63100db",
   "metadata": {},
   "source": [
    "### Sales by product type monthly"
   ]
  },
  {
   "cell_type": "code",
   "execution_count": null,
   "id": "cc3cdeb2-ba70-42e2-a06e-296f131c5818",
   "metadata": {},
   "outputs": [],
   "source": [
    "monthly_grouped_type = sales_data.groupby(['year','month','product_type']).agg({'gross_sales':'sum'}).reset_index() #sum gross sales monthly by date\n",
    "monthly_grouped_type_df = monthly_grouped_type.groupby(['month', 'product_type']).agg({'gross_sales':'mean'}).reset_index() #average gross sales by month\n",
    "monthly_grouped_type_df"
   ]
  },
  {
   "cell_type": "code",
   "execution_count": null,
   "id": "0cac8784-e11c-4dbb-8f03-df3b072a850e",
   "metadata": {},
   "outputs": [],
   "source": [
    "monthly_sales_2019 = monthly_grouped_type_df[monthly_grouped_type_df['product_type'].isin(['Can','Draft','Growler','Keg'])]\n",
    "monthly_sales_2019 = pd.DataFrame(monthly_sales_2019)\n",
    "\n",
    "fig = plt.figure(figsize=(20, 6))\n",
    "sns.lineplot(data=monthly_sales_2019, x = 'month', y = 'gross_sales', hue='product_type', errorbar=None, palette = 'colorblind')\n",
    "plt.xticks([1,2,3,4,5,6,7,8,9,10,11,12], ['January', 'February', 'March', 'April', 'May', 'June', 'July', 'August', 'September', 'October', 'November', 'December'], rotation=20, fontsize=12)\n",
    "plt.title('Average Monthly Gross Sales for Years 2019 - 2023', fontsize=20)\n",
    "plt.xlabel('Month', fontsize=16)\n",
    "plt.ylabel('Gross Sales', fontsize=16)\n",
    "plt.show()"
   ]
  },
  {
   "cell_type": "markdown",
   "id": "c96c872d-4d8f-407d-9418-5d0ae25a0fc8",
   "metadata": {},
   "source": [
    "### Sales by product type yearly"
   ]
  },
  {
   "cell_type": "code",
   "execution_count": null,
   "id": "99cf1012-d539-4ba8-8662-56ab9f302fb2",
   "metadata": {},
   "outputs": [],
   "source": [
    "product_sales = sales_data_beer.groupby(['year','product_type']).agg({'gross_sales':'sum'})\n",
    "product_sales = pd.DataFrame(product_sales).reset_index()\n",
    "product_sales = product_sales[product_sales['product_type']!='Other']\n",
    "grouped_sales = product_sales.groupby('year')\n",
    "\n",
    "for year, group in grouped_sales:\n",
    "    sales_by_product_type = group.groupby('product_type')['gross_sales'].sum()\n",
    "    sns.set(font_scale = 1.2)\n",
    "    sns.set_palette('colorblind')\n",
    "\n",
    "    plt.figure(figsize=(8, 6))\n",
    "    plt.title(f'Gross Sales Distribution for Year {year}', fontsize=20)\n",
    "    plt.pie(sales_by_product_type, labels=sales_by_product_type.index, autopct='%1.1f%%', startangle=25,\n",
    "            pctdistance=1.125, labeldistance=None, textprops={'fontsize':14})\n",
    "    centre_circle = plt.Circle((0,0),0.6,fc='white')\n",
    "    fig = plt.gcf()\n",
    "    fig.gca().add_artist(centre_circle)\n",
    "    plt.legend(loc='upper left')\n",
    "    plt.show()"
   ]
  },
  {
   "cell_type": "markdown",
   "id": "1ba4b82c-8596-47fe-805a-eee6f74279ac",
   "metadata": {},
   "source": [
    "### Yearly sales by beer style"
   ]
  },
  {
   "cell_type": "code",
   "execution_count": null,
   "id": "eada2ac9-06b5-400c-bd3c-363d7aa4f2a6",
   "metadata": {},
   "outputs": [],
   "source": [
    "style_sales = sales_data_beer[(sales_data_beer['beer_style'] != 'Seltzer')&(sales_data_beer['beer_style'] != 'Flight')\n",
    "                              &(sales_data_beer['beer_style'] != 'Mixed')&(sales_data_beer['beer_style'] != 'Growler')]\n",
    "style_sales= style_sales.groupby(['year','beer_style']).agg({'gross_sales':'sum'})\n",
    "style_sales = pd.DataFrame(style_sales).reset_index()\n",
    "\n",
    "style_ratings = sales_data_beer[(sales_data_beer['beer_style'] != 'Seltzer')&(sales_data_beer['beer_style'] != 'Flight')\n",
    "                                &(sales_data_beer['beer_style'] != 'Mixed')&(sales_data_beer['beer_style'] != 'Growler')]\n",
    "style_ratings= style_ratings.groupby(['beer_style']).agg({'global_rating':'mean','rating_count':'max'})\n",
    "style_ratings = pd.DataFrame(style_ratings).reset_index()\n",
    "style_ratings = style_ratings.sort_values('global_rating', ascending=True)"
   ]
  },
  {
   "cell_type": "code",
   "execution_count": null,
   "id": "894354fa-a9c2-451e-815d-ac2e0368a6ee",
   "metadata": {},
   "outputs": [],
   "source": [
    "grouped_styles = style_sales.groupby('year')\n",
    "for year, group in grouped_styles:\n",
    "    sales_by_style = group.groupby('beer_style')['gross_sales'].sum()\n",
    "    sns.set(font_scale = 1.1)\n",
    "\n",
    "    plt.figure(figsize=(8, 6)) \n",
    "    plt.title(f'Gross Sales Distribution for Year per Beer Style {year}', fontsize=20)\n",
    "    plt.pie(sales_by_style, labels=sales_by_style.index, autopct='%1.1f%%', startangle=55, pctdistance=0.85, textprops={'fontsize':10})   \n",
    "    centre_circle = plt.Circle((0,0),0.6,fc='white')\n",
    "    fig = plt.gcf()\n",
    "    fig.gca().add_artist(centre_circle)\n",
    "    plt.xticks(rotation=45)\n",
    "    plt.show()"
   ]
  },
  {
   "cell_type": "markdown",
   "id": "2bf7ca5c-b85d-44f6-af2d-8263c6c5b4d5",
   "metadata": {},
   "source": [
    "### Yearly sales by primary style"
   ]
  },
  {
   "cell_type": "code",
   "execution_count": null,
   "id": "ec06ecdb-fe52-4f06-beb8-c85f848fd8c5",
   "metadata": {},
   "outputs": [],
   "source": [
    "primary_sales= sales_data_beer.groupby(['year','primary_beer_type']).agg({'gross_sales':'sum'})\n",
    "primary_sales = pd.DataFrame(primary_sales).reset_index()\n",
    "primary_sales = primary_sales[primary_sales['primary_beer_type'] != 'None']"
   ]
  },
  {
   "cell_type": "code",
   "execution_count": null,
   "id": "7b47ce85-cd75-4693-8cc8-98e04c710f7f",
   "metadata": {},
   "outputs": [],
   "source": [
    "grouped_styles = primary_sales.groupby('year')\n",
    "for year, group in grouped_styles:\n",
    "    sales_by_primary_style = group.groupby('primary_beer_type')['gross_sales'].sum()\n",
    "    sns.set(font_scale = 1.1)\n",
    "    sns.set_palette('colorblind')\n",
    "    plt.figure(figsize=(8, 6)) \n",
    "    plt.title(f'Gross Sales Distribution for Year per Beer Style {year}', fontsize=20)\n",
    "    plt.pie(sales_by_primary_style, labels=sales_by_primary_style.index, autopct='%1.1f%%', startangle=70, pctdistance=0.85)  \n",
    "    centre_circle = plt.Circle((0,0),0.6,fc='white')\n",
    "    fig = plt.gcf()\n",
    "    fig.gca().add_artist(centre_circle)\n",
    "    plt.xticks(rotation=45)\n",
    "    plt.show()"
   ]
  },
  {
   "cell_type": "markdown",
   "id": "b50d4405-3088-4f3a-b42f-ceebabf6214e",
   "metadata": {},
   "source": [
    "### Number of available styles over time"
   ]
  },
  {
   "cell_type": "code",
   "execution_count": null,
   "id": "9fe9c11a-eb76-453a-958e-624dbd5ce711",
   "metadata": {},
   "outputs": [],
   "source": [
    "no_styles_sold = sales_data[sales_data['year'] > 2019].groupby('date')['no_styles_sold'].mean()\n",
    "no_styles_sold = pd.DataFrame(no_styles_sold)\n",
    "no_styles_sold = no_styles_sold['no_styles_sold'].resample('M').mean().reset_index()\n",
    "\n",
    "fig, ax = plt.subplots(1,1, figsize=(15, 6))\n",
    "\n",
    "sns.lineplot(data=no_styles_sold, x='date', y='no_styles_sold')\n",
    "plt.xticks(rotation=45, fontsize=12)\n",
    "\n",
    "ax.xaxis.set_major_locator(mdates.MonthLocator(bymonth=(1, 4, 7, 10)))\n",
    "date_fmt = mdates.DateFormatter('%Y-%m')\n",
    "ax.xaxis.set_major_formatter(date_fmt)\n",
    "ax.xaxis.set_minor_locator(mdates.MonthLocator())\n",
    "    \n",
    "plt.title('Number of available beer styles over time from 2020 to Present (monthly average)', fontsize=20)\n",
    "plt.ylabel('Number of available beer styles', fontsize=16)\n",
    "plt.xlabel('Date', fontsize=16)\n",
    "plt.show()"
   ]
  },
  {
   "cell_type": "markdown",
   "id": "004fc424-a269-47f8-a913-f98e235bc2f3",
   "metadata": {
    "tags": []
   },
   "source": [
    "### Individual beer style sales"
   ]
  },
  {
   "cell_type": "code",
   "execution_count": null,
   "id": "8b010f23-2eff-4836-ba15-c272f628999e",
   "metadata": {},
   "outputs": [],
   "source": [
    "period_sales_primary = sales_data_beer[(sales_data_beer['year'] > 2019) & (sales_data_beer['beer_style']!='Flight')& (sales_data_beer['beer_style']!='Growler')& (sales_data_beer['beer_style']!='Seltzer')& (sales_data_beer['beer_style']!='Mixed')]\n",
    "period_sales_primary = period_sales_primary.groupby(['date','beer_style'])['gross_sales'].sum()\n",
    "period_sales_primary = pd.DataFrame(period_sales_primary)\n",
    "period_sales_primary = period_sales_primary.reset_index()\n",
    "period_sales_primary['total_sales'] = period_sales_primary.groupby(period_sales_primary['date'])['gross_sales'].transform('sum')\n",
    "period_sales_primary['portion'] = period_sales_primary['gross_sales'] / period_sales_primary['total_sales']\n",
    "period_sales_primary"
   ]
  },
  {
   "cell_type": "code",
   "execution_count": null,
   "id": "d5616ab4-eee0-4eef-b197-2702053cbbd6",
   "metadata": {},
   "outputs": [],
   "source": [
    "import datetime as dt\n",
    "import matplotlib.dates as mdates\n",
    "\n",
    "styles_list = list(period_sales_primary['beer_style'].unique())\n",
    "for style in styles_list:\n",
    "    style_gross = period_sales_primary[period_sales_primary['beer_style']==style]\n",
    "    style_gross.set_index('date', inplace=True)\n",
    "    style_gross = style_gross['portion'].resample('M').mean().reset_index()\n",
    "\n",
    "    fig, ax = plt.subplots(1, 1, figsize=(12, 6))    \n",
    "    sns.lineplot(style_gross, x='date', y='portion')\n",
    "    plt.title(str(style) + ' sales over time (monthly average)', fontsize=20)\n",
    "    plt.xlim([dt.date(2020, 1, 1), dt.date(2023, 4, 30)])\n",
    "    plt.xticks(rotation=45, fontsize=12)\n",
    "    plt.xlabel('Date', fontsize=16)\n",
    "    ax.xaxis.set_major_locator(mdates.MonthLocator(bymonth=(1, 4, 7, 10)))\n",
    "    date_fmt = mdates.DateFormatter('%Y-%m')\n",
    "    ax.xaxis.set_major_formatter(date_fmt)\n",
    "    ax.xaxis.set_minor_locator(mdates.MonthLocator())\n",
    "    ax.grid(True)\n",
    "    plt.ylabel('Share of overall sales', fontsize=16)   \n",
    "    plt.show()"
   ]
  }
 ],
 "metadata": {
  "kernelspec": {
   "display_name": "Python 3 (ipykernel)",
   "language": "python",
   "name": "python3"
  },
  "language_info": {
   "codemirror_mode": {
    "name": "ipython",
    "version": 3
   },
   "file_extension": ".py",
   "mimetype": "text/x-python",
   "name": "python",
   "nbconvert_exporter": "python",
   "pygments_lexer": "ipython3",
   "version": "3.10.9"
  }
 },
 "nbformat": 4,
 "nbformat_minor": 5
}
